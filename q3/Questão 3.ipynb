{
 "cells": [
  {
   "cell_type": "code",
   "execution_count": 2,
   "metadata": {},
   "outputs": [],
   "source": [
    "# Biblioteca científica\n",
    "import numpy as np\n",
    "# Biblioteca para análise de dados\n",
    "import pandas as pd\n",
    "# Suprimindo os warnings da biblioteca pandas\n",
    "pd.options.mode.chained_assignment = None\n",
    "# Bibliotecas de visualização de dados\n",
    "import matplotlib.pyplot as plt\n",
    "import matplotlib.patches as mpatches\n",
    "import matplotlib.ticker as mtick\n",
    "plt.style.use('ggplot')\n",
    "import seaborn as sns\n",
    "sns.set_style('whitegrid')\n",
    "%matplotlib inline"
   ]
  },
  {
   "cell_type": "markdown",
   "metadata": {},
   "source": [
    "### Os alunos que trabalharam durante o curso (excluindo bolsas e estágios) tiveram notas inferiores aos que não trabalharam? \n",
    "QE_I10 trabalha\n",
    "NT_GER notal geral"
   ]
  },
  {
   "cell_type": "code",
   "execution_count": 16,
   "metadata": {},
   "outputs": [],
   "source": [
    "dados =  pd.read_csv('../dados/microdados.csv', usecols=['QE_I10', 'NT_GER'], sep=';')"
   ]
  },
  {
   "cell_type": "code",
   "execution_count": null,
   "metadata": {},
   "outputs": [],
   "source": [
    "dados = dados[dados.QE_I10.notnull() & dados.NT_GER.notnull()]\n",
    "trabalhou = dados[dados.QE_I10 != 'A']\n",
    "trabalhou"
   ]
  }
 ],
 "metadata": {
  "kernelspec": {
   "display_name": "Python 3",
   "language": "python",
   "name": "python3"
  },
  "language_info": {
   "codemirror_mode": {
    "name": "ipython",
    "version": 3
   },
   "file_extension": ".py",
   "mimetype": "text/x-python",
   "name": "python",
   "nbconvert_exporter": "python",
   "pygments_lexer": "ipython3",
   "version": "3.6.8"
  }
 },
 "nbformat": 4,
 "nbformat_minor": 2
}
